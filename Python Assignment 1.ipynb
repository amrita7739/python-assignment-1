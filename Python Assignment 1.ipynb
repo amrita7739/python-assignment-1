{
  "cells": [
    {
      "cell_type": "markdown",
      "id": "addf0752-94e5-4272-8996-f8b36b00fbf6",
      "metadata": {
        "id": "addf0752-94e5-4272-8996-f8b36b00fbf6"
      },
      "source": [
        "# 🏫 PYTHON SCHOOL QUEST:\n",
        "## Welcome to Greenfield High!\n",
        "### 🚀 A Fun, Beginner-Friendly Python Adventure! 🚀"
      ]
    },
    {
      "cell_type": "markdown",
      "id": "20e7e9d9-b70c-4d3a-ae7d-47d420774075",
      "metadata": {
        "id": "20e7e9d9-b70c-4d3a-ae7d-47d420774075"
      },
      "source": [
        "## 📖 Chapter 1: The Tech Club's Big Challenge!\n",
        "### It’s an exciting time at Greenfield High! The Tech Club has been given a special project by Principal Williams: help the school become more tech-savvy using Python! 🎉\n",
        "\n",
        "## 👥 Meet the Characters!\n",
        "\n",
        "### 🧑‍🎓 Alex Parker (Main Character - You!)\n",
        "**🔹 Age: 12**\n",
        "\n",
        "**🔹 Grade: 7th**\n",
        "\n",
        "**🔹 Personality: Curious, friendly, and loves problem-solving.**\n",
        "\n",
        "**🔹 Dream: To become a master coder and help the school with technology.**\n",
        "\n",
        "### 👨‍🏫 Mr. Carter (Tech Club Mentor - The Fun Teacher)\n",
        "**🔹 Role: The Tech Club’s mentor and computer science teacher.**\n",
        "\n",
        "**🔹 Fun Fact: Once built a robot that tells jokes!**\n",
        "\n",
        "### 👧 Mia (Best Friend - The Artistic Coder)\n",
        "**🔹 Loves: Art and creativity.**\n",
        "\n",
        "**🔹 Struggles with: Coding, but is excited to learn!**\n",
        "\n",
        "### 👦 Jake (Best Friend - The Math Whiz)\n",
        "**🔹 Loves: Math, numbers, and puzzles.**\n",
        "\n",
        "**🔹 Fun Fact: Solves Rubik’s cubes in under a minute!**\n",
        "\n",
        "### 🤖 Robo-Helper 3000 (AI Assistant - The Funny Robot)\n",
        "**🔹 Role: A small, floating robot built by Mr. Carter to assist students in the Tech Lab.**\n",
        "\n",
        "**🔹 Personality: Friendly, energetic, and sometimes makes silly jokes.**\n",
        "\n",
        "**🔹 Fun Fact: Speaks in robotic puns! 🤖**\n",
        "\n",
        "### 👨‍💼 Principal Williams (The Wise School Leader)\n",
        "**🔹 Role: Principal of Greenfield High.**\n",
        "\n",
        "**🔹 Fun Fact: Wants the school to be the best in technology.**\n",
        "\n",
        "##### 🎯 Mission: Help Greenfield High Using Python!\n",
        "**Today, Mr. Carter has given Alex (you!) 15 exciting challenges to solve! 💻✨**"
      ]
    },
    {
      "cell_type": "markdown",
      "id": "92f4e05d-ada6-4423-b4c9-ce2cf1e94dab",
      "metadata": {
        "id": "92f4e05d-ada6-4423-b4c9-ce2cf1e94dab"
      },
      "source": [
        "# 💻 Python Challenges Begin! 🚀\n",
        "## 📌 TASK 1: Student Enrollment System (Variables & Identifiers)\n",
        "### 🔹 Scenario:\n",
        "**Greenfield High is enrolling new students, and the system needs to store student information correctly.**\n",
        "\n",
        "**📝 Mr. Carter’s Instructions:**\n",
        "\n",
        "**Create variables for a student’s name, student ID, and house color (Red, Blue, Green, or Yellow).**\n",
        "\n",
        "**Print the details in a friendly format.**\n",
        "\n",
        "**✅ Example Output:**\n",
        "\n",
        "##### Student Name: Emma\n",
        "##### Student ID: G2025\n",
        "##### House Color: Yellow"
      ]
    },
    {
      "cell_type": "code",
      "execution_count": 1,
      "id": "83af44bb-cbb0-4966-9c7b-c5a0ef421c57",
      "metadata": {
        "id": "83af44bb-cbb0-4966-9c7b-c5a0ef421c57",
        "outputId": "093d08da-64b5-41d1-a7ab-edc67c8c6aec",
        "colab": {
          "base_uri": "https://localhost:8080/"
        }
      },
      "outputs": [
        {
          "output_type": "stream",
          "name": "stdout",
          "text": [
            "🎉 Welcome to Greenfield High!\n",
            "👤 Student Name: john\n",
            "🆔 Student ID: 66\n",
            "🏠 House Color: red\n",
            "📚 Let's make this school year amazing!\n"
          ]
        }
      ],
      "source": [
        "student_name = \"john\"\n",
        "student_id = 66\n",
        "house_color = \"red\"\n",
        "print(\"🎉 Welcome to Greenfield High!\")\n",
        "print(\"👤 Student Name:\", student_name)\n",
        "print(\"🆔 Student ID:\", student_id)\n",
        "print(\"🏠 House Color:\", house_color)\n",
        "print(\"📚 Let's make this school year amazing!\")\n"
      ]
    },
    {
      "cell_type": "markdown",
      "id": "f4e0c985-f7c4-44f0-9c77-145d1194bb81",
      "metadata": {
        "id": "f4e0c985-f7c4-44f0-9c77-145d1194bb81"
      },
      "source": [
        "**🚨 Fix This Code below (What’s Wrong?) 👉 Explain why these variable names are incorrect and rewrite them correctly.**"
      ]
    },
    {
      "cell_type": "markdown",
      "id": "17f80384-3bbe-4ba5-9941-3660acb24d27",
      "metadata": {
        "id": "17f80384-3bbe-4ba5-9941-3660acb24d27"
      },
      "source": [
        "## 📌 TASK 2: Counting Students (Data Types & Typecasting)\n",
        "### 🔹 Scenario:\n",
        "**Principal Williams wants to know how many students are in school, but the system mistakenly stores the number as a string!**\n",
        "\n",
        "**📝 Jake’s Question:**\n",
        "\n",
        "**\"Hey Alex, why can’t I add 100 to total_students?\"**\n",
        "\n",
        "**📝 Your Task:**\n",
        "\n",
        "**Convert total_students from string to integer.**\n",
        "\n",
        "**Print the correct total number of students.**\n",
        "\n",
        "**❌ Broken Code: ✅ Fix the below code using typecasting!**"
      ]
    },
    {
      "cell_type": "code",
      "source": [
        "total_students = \"500\"\n",
        "total_students = int(total_students)\n",
        "print(total_students+100)\n"
      ],
      "metadata": {
        "id": "MZ2gA46cYupa",
        "outputId": "1ace1e4c-d423-46ab-ccd7-45b0101f65f1",
        "colab": {
          "base_uri": "https://localhost:8080/"
        }
      },
      "id": "MZ2gA46cYupa",
      "execution_count": 2,
      "outputs": [
        {
          "output_type": "stream",
          "name": "stdout",
          "text": [
            "600\n"
          ]
        }
      ]
    },
    {
      "cell_type": "markdown",
      "id": "27dc306d-96f4-405d-94c6-9d8899b54e68",
      "metadata": {
        "id": "27dc306d-96f4-405d-94c6-9d8899b54e68"
      },
      "source": [
        "## 📌 TASK 3: Registering for the School Event (Input & Typecasting)\n",
        "### 🔹 Scenario:\n",
        "**The school is hosting a Chess Tournament, and students must be at least 12 years old to participate.**\n",
        "\n",
        "**📝 Your Task:**\n",
        "\n",
        "**Ask the user to enter their age.**\n",
        "\n",
        "**Convert the input to an integer.**\n",
        "\n",
        "**Print if they are eligible or not.**\n",
        "\n",
        "**❌ Broken Code: ✅ Fix the below code using typecasting!**"
      ]
    },
    {
      "cell_type": "code",
      "execution_count": 4,
      "id": "1961eba7-83bc-4dd6-b53b-d5b8c50bf2b7",
      "metadata": {
        "id": "1961eba7-83bc-4dd6-b53b-d5b8c50bf2b7",
        "outputId": "fd585f5e-cc06-4cb3-98d1-8a08a35abd3f",
        "colab": {
          "base_uri": "https://localhost:8080/"
        }
      },
      "outputs": [
        {
          "output_type": "stream",
          "name": "stdout",
          "text": [
            "Enter your age to register for chess tournament: 12\n",
            "You are eligible to participate in the chess tournament!\n"
          ]
        }
      ],
      "source": [
        "#Fix the below code\n",
        "age_input = input(\"Enter your age to register for chess tournament: \")\n",
        "age = int(age_input)\n",
        "if age >= 12:\n",
        "    print(\"You are eligible to participate in the chess tournament!\")\n",
        ""
      ]
    },
    {
      "cell_type": "markdown",
      "id": "93615f5d-a88b-4fee-9518-d6516c2daeee",
      "metadata": {
        "id": "93615f5d-a88b-4fee-9518-d6516c2daeee"
      },
      "source": [
        "## 📌 TASK 4: Printing Announcements (String Formatting)\n",
        "### 🔹 Scenario:\n",
        "**Principal Williams needs to announce the winners of the Math Contest.**\n",
        "\n",
        "**📝 Your Task:**\n",
        "\n",
        "**Print the announcement using:**\n",
        "\n",
        "**String concatenation**\n",
        "    \n",
        "**.format() method**\n",
        "    \n",
        "**f-string**\n",
        "\n",
        "**✅ Final Output: Congratulations to Liam for scoring 95 points in the Math Contest!**"
      ]
    },
    {
      "cell_type": "code",
      "execution_count": 8,
      "id": "0800102b-ab6d-4e6b-8025-06ac074576da",
      "metadata": {
        "id": "0800102b-ab6d-4e6b-8025-06ac074576da",
        "outputId": "a928954d-0484-46b5-eace-af8a9dae8956",
        "colab": {
          "base_uri": "https://localhost:8080/"
        }
      },
      "outputs": [
        {
          "output_type": "stream",
          "name": "stdout",
          "text": [
            "Congratulations to Liam for scoring 95 points in the Math Contest!\n",
            "Congratulations to Liam for scoring 95 points in the Math Contest!\n",
            "Congratulations to Liam for scoring 95 points in the Math Contest!\n"
          ]
        }
      ],
      "source": [
        "#Using String Concatenation\n",
        "name = \"Liam\"\n",
        "score = 95\n",
        "print(\"Congratulations to \" + name + \" for scoring \" + str(score) + \" points in the Math Contest!\")\n",
        "#We use str(score) to turn the number into a string before adding it.\n",
        "#Using .format() Method\n",
        "print(\"Congratulations to {} for scoring {} points in the Math Contest!\".format(name, score))\n",
        "#Using f-string (the easiest and cleanest!)\n",
        "print(f\"Congratulations to {name} for scoring {score} points in the Math Contest!\")\n"
      ]
    },
    {
      "cell_type": "markdown",
      "id": "d0db07e3-bd1b-4619-b7bb-e3664c17a8dd",
      "metadata": {
        "id": "d0db07e3-bd1b-4619-b7bb-e3664c17a8dd"
      },
      "source": [
        "## 📌 TASK 5: Fun with Printing (sep & end)\n",
        "### 🔹 Scenario:\n",
        "**Mia is designing a poster for an upcoming event and wants the words printed in a special way.**\n",
        "\n",
        "**📝 Your Task:**\n",
        "\n",
        "**Use the sep and end parameters in print() to format this output:**\n",
        "\n",
        "**✅ Final Output: Below is the expected output**\n"
      ]
    },
    {
      "cell_type": "code",
      "execution_count": null,
      "id": "a3e848af-c4e0-4456-8d64-ea0ec81a4242",
      "metadata": {
        "id": "a3e848af-c4e0-4456-8d64-ea0ec81a4242"
      },
      "outputs": [],
      "source": [
        "Greenfield - High - Coding - Club!\n",
        "This is going to be fun! 🎉"
      ]
    },
    {
      "cell_type": "code",
      "execution_count": 10,
      "id": "0e1aa4d6-794e-454d-abd7-86a7fb3802fc",
      "metadata": {
        "id": "0e1aa4d6-794e-454d-abd7-86a7fb3802fc",
        "outputId": "5e3f4d9d-f12b-4290-974e-ce5fff049e20",
        "colab": {
          "base_uri": "https://localhost:8080/"
        }
      },
      "outputs": [
        {
          "output_type": "stream",
          "name": "stdout",
          "text": [
            "coding is fun\n",
            "lets learn\n",
            "python together\n"
          ]
        }
      ],
      "source": [
        "print(\"coding\",\"is\",\"fun\",sep=\" \")\n",
        "print(\"lets learn\", sep=\" \")\n",
        "print(\"python together\")"
      ]
    },
    {
      "cell_type": "markdown",
      "id": "32a9bdc2-322c-4810-a914-fe33eb3f2165",
      "metadata": {
        "id": "32a9bdc2-322c-4810-a914-fe33eb3f2165"
      },
      "source": [
        "## 📌 TASK 6: Secret Message with Variables\n",
        "### 🔹 Scenario:\n",
        "**Mia wants to store a secret message for a surprise event.**\n",
        "\n",
        "**📝 Your Task:**\n",
        "\n",
        "**Create three variables: word1, word2, and word3.**\n",
        "                                     \n",
        "**Store different words in each.**\n",
        "                                     \n",
        "**Print them in a single sentence using string concatenation. You can store any value in those variables**"
      ]
    },
    {
      "cell_type": "code",
      "execution_count": 12,
      "id": "225ab9dc-746c-44ee-a860-86bd4baae014",
      "metadata": {
        "id": "225ab9dc-746c-44ee-a860-86bd4baae014",
        "outputId": "46b4f2ed-2539-4f7c-e1de-ddebc7049dcf",
        "colab": {
          "base_uri": "https://localhost:8080/"
        }
      },
      "outputs": [
        {
          "output_type": "stream",
          "name": "stdout",
          "text": [
            "AMU IS BEAUTIFUL \n"
          ]
        }
      ],
      "source": [
        "word1 = \"AMU\"\n",
        "word2 = \"IS\"\n",
        "word3 = \"BEAUTIFUL\"\n",
        "print(word1 + \" \" + word2 + \" \" + word3 + \" \")"
      ]
    },
    {
      "cell_type": "markdown",
      "id": "55c760a2-5d2b-4725-8751-0de36a5e8ed5",
      "metadata": {
        "id": "55c760a2-5d2b-4725-8751-0de36a5e8ed5"
      },
      "source": [
        "## 📌 TASK 7: Fix the Print Output\n",
        "### 🔹 Scenario:\n",
        "**Jake wrote the following code but it prints incorrectly:**\n",
        "\n",
        "**👉 Fix the code so that it prints:**\n",
        "\n",
        "**The winner is Emma with a score of 95!!!**\n"
      ]
    },
    {
      "cell_type": "code",
      "execution_count": 14,
      "id": "b2f85bd5-6df1-4cdd-ae28-a3344a472f6a",
      "metadata": {
        "id": "b2f85bd5-6df1-4cdd-ae28-a3344a472f6a",
        "outputId": "6f4b37f6-8f7b-48ac-d74c-042976e41a68",
        "colab": {
          "base_uri": "https://localhost:8080/"
        }
      },
      "outputs": [
        {
          "output_type": "stream",
          "name": "stdout",
          "text": [
            "The winner is Emma with a score of 95!!!"
          ]
        }
      ],
      "source": [
        "#Fix the code below\n",
        "print(\"The winner is\", \"Emma\", \"with a score of\", 95, end=\"!!!\")"
      ]
    },
    {
      "cell_type": "markdown",
      "id": "6700cb5a-8885-41ac-a12a-97eae34d51ad",
      "metadata": {
        "id": "6700cb5a-8885-41ac-a12a-97eae34d51ad"
      },
      "source": [
        "## 📌 TASK 8: School Store Purchase\n",
        "### 🔹 Scenario:\n",
        "**Mia needs 5 notebooks, and each costs $4.**\n",
        "\n",
        "**✅ Fix the broken code:**"
      ]
    },
    {
      "cell_type": "code",
      "execution_count": 17,
      "id": "e5eb4052-9c5a-4e6c-8693-4e29f028a9a5",
      "metadata": {
        "id": "e5eb4052-9c5a-4e6c-8693-4e29f028a9a5",
        "outputId": "dbd95a04-b2a1-4a05-cd5a-854bcfa14be9",
        "colab": {
          "base_uri": "https://localhost:8080/"
        }
      },
      "outputs": [
        {
          "output_type": "stream",
          "name": "stdout",
          "text": [
            "Total cost is : $5555\n"
          ]
        }
      ],
      "source": [
        "#Fix the below code\n",
        "price = 4\n",
        "quantity = \"5\"\n",
        "total = price * quantity  #Wrong output!\n",
        "print(\"Total cost is : $\" + total)"
      ]
    },
    {
      "cell_type": "markdown",
      "id": "83e949ee-e608-4f89-a163-e22ccf346abc",
      "metadata": {
        "id": "83e949ee-e608-4f89-a163-e22ccf346abc"
      },
      "source": [
        "## 📌 TASK 9: Student Info with f-strings\n",
        "### 🔹 Scenario:\n",
        "**Ask the user to enter their name, grade, and favorite subject, then print it using an f-string.**"
      ]
    },
    {
      "cell_type": "code",
      "execution_count": null,
      "id": "a85e57ed-f2a2-4f1e-b3b2-839adffebb15",
      "metadata": {
        "id": "a85e57ed-f2a2-4f1e-b3b2-839adffebb15"
      },
      "outputs": [],
      "source": [
        "name = input(\"amu\")\n",
        "grade = input(\"a\")\n",
        "favroute_subject = input(\"math\")\n",
        "print(f\"hi {name}! you are in grade {grade},and your favorite subject is {favroute_subject}\")"
      ]
    },
    {
      "cell_type": "markdown",
      "id": "6571c0ee-45cd-4484-a31a-f93a4ea0d732",
      "metadata": {
        "id": "6571c0ee-45cd-4484-a31a-f93a4ea0d732"
      },
      "source": [
        "## 📌 TASK 10: The Mystery Code\n",
        "### 🔹 Scenario:\n",
        "**What will be the output of this code? See if you are understanding or not**"
      ]
    },
    {
      "cell_type": "code",
      "execution_count": null,
      "id": "a42e17b0-8c81-4057-a22a-a5ce173d4ffc",
      "metadata": {
        "id": "a42e17b0-8c81-4057-a22a-a5ce173d4ffc"
      },
      "outputs": [],
      "source": [
        "print(\"Hello\", \"Python\", sep=\"-\", end=\"! \")\n",
        "print(\"Let's learn more!\")"
      ]
    },
    {
      "cell_type": "markdown",
      "id": "f52f187e-7f9e-4979-aa7f-e8f627342d50",
      "metadata": {
        "id": "f52f187e-7f9e-4979-aa7f-e8f627342d50"
      },
      "source": [
        "## 📌 TASK 11: Fix the Percentage Format\n",
        "### 🔹 Scenario:\n",
        "**Jake wants to format his exam score properly. Fix this: The Expected output is**\n",
        "\n",
        "**You scored 92%!**"
      ]
    },
    {
      "cell_type": "code",
      "execution_count": null,
      "id": "083bb8a0-e9e0-40e4-9a18-b764de60aa2a",
      "metadata": {
        "id": "083bb8a0-e9e0-40e4-9a18-b764de60aa2a"
      },
      "outputs": [],
      "source": [
        "#Fix this code\n",
        "score = 92\n",
        "print(\"You scored\", score, \"%\")"
      ]
    },
    {
      "cell_type": "markdown",
      "id": "397375db-e859-4895-8733-766910884d4d",
      "metadata": {
        "id": "397375db-e859-4895-8733-766910884d4d"
      },
      "source": [
        "## 📌 TASK 12: Using .format() Correctly\n",
        "### 🔹 Scenario:\n",
        "**Rewrite this using .format():**"
      ]
    },
    {
      "cell_type": "code",
      "execution_count": 6,
      "id": "499437a5-d365-46b5-bb4d-77f6db3760b1",
      "metadata": {
        "id": "499437a5-d365-46b5-bb4d-77f6db3760b1",
        "outputId": "33816991-5879-4dd2-8560-ed6cd74f8745",
        "colab": {
          "base_uri": "https://localhost:8080/"
        }
      },
      "outputs": [
        {
          "output_type": "stream",
          "name": "stdout",
          "text": [
            "Welcome to name{}!.format(name)\n"
          ]
        }
      ],
      "source": [
        "#Rewrite this code with .format()\n",
        "name = \"Alex\"\n",
        "print(\"Welcome to name{}!.format(name)\")"
      ]
    },
    {
      "cell_type": "markdown",
      "id": "e68141d0-1ab1-4148-a8fb-2d51b96bdd31",
      "metadata": {
        "id": "e68141d0-1ab1-4148-a8fb-2d51b96bdd31"
      },
      "source": [
        "## 📌 TASK 13: Number Input Fix\n",
        "### 🔹 Scenario:\n",
        "**Fix this input error:**"
      ]
    },
    {
      "cell_type": "code",
      "execution_count": 1,
      "id": "3aba74e7-9158-43c9-92a4-b2869381a99d",
      "metadata": {
        "id": "3aba74e7-9158-43c9-92a4-b2869381a99d",
        "outputId": "07eb0d15-ede2-42dd-9e36-e3bd91dda9a8",
        "colab": {
          "base_uri": "https://localhost:8080/",
          "height": 347
        }
      },
      "outputs": [
        {
          "output_type": "error",
          "ename": "KeyboardInterrupt",
          "evalue": "Interrupted by user",
          "traceback": [
            "\u001b[0;31m---------------------------------------------------------------------------\u001b[0m",
            "\u001b[0;31mKeyboardInterrupt\u001b[0m                         Traceback (most recent call last)",
            "\u001b[0;32m<ipython-input-1-186f87df716e>\u001b[0m in \u001b[0;36m<cell line: 0>\u001b[0;34m()\u001b[0m\n\u001b[1;32m      1\u001b[0m \u001b[0;31m#Fix the code\u001b[0m\u001b[0;34m\u001b[0m\u001b[0;34m\u001b[0m\u001b[0m\n\u001b[0;32m----> 2\u001b[0;31m \u001b[0mnum1\u001b[0m \u001b[0;34m=\u001b[0m \u001b[0minput\u001b[0m\u001b[0;34m(\u001b[0m\u001b[0;34m\"Enter a number: \"\u001b[0m\u001b[0;34m)\u001b[0m\u001b[0;34m\u001b[0m\u001b[0;34m\u001b[0m\u001b[0m\n\u001b[0m\u001b[1;32m      3\u001b[0m \u001b[0mnum2\u001b[0m \u001b[0;34m=\u001b[0m \u001b[0minput\u001b[0m\u001b[0;34m(\u001b[0m\u001b[0;34m\"Enter another number: \"\u001b[0m\u001b[0;34m)\u001b[0m\u001b[0;34m\u001b[0m\u001b[0;34m\u001b[0m\u001b[0m\n\u001b[1;32m      4\u001b[0m \u001b[0mprint\u001b[0m\u001b[0;34m(\u001b[0m\u001b[0mnum1\u001b[0m \u001b[0;34m+\u001b[0m \u001b[0mnum2\u001b[0m\u001b[0;34m)\u001b[0m\u001b[0;34m\u001b[0m\u001b[0;34m\u001b[0m\u001b[0m\n",
            "\u001b[0;32m/usr/local/lib/python3.11/dist-packages/ipykernel/kernelbase.py\u001b[0m in \u001b[0;36mraw_input\u001b[0;34m(self, prompt)\u001b[0m\n\u001b[1;32m   1175\u001b[0m                 \u001b[0;34m\"raw_input was called, but this frontend does not support input requests.\"\u001b[0m\u001b[0;34m\u001b[0m\u001b[0;34m\u001b[0m\u001b[0m\n\u001b[1;32m   1176\u001b[0m             )\n\u001b[0;32m-> 1177\u001b[0;31m         return self._input_request(\n\u001b[0m\u001b[1;32m   1178\u001b[0m             \u001b[0mstr\u001b[0m\u001b[0;34m(\u001b[0m\u001b[0mprompt\u001b[0m\u001b[0;34m)\u001b[0m\u001b[0;34m,\u001b[0m\u001b[0;34m\u001b[0m\u001b[0;34m\u001b[0m\u001b[0m\n\u001b[1;32m   1179\u001b[0m             \u001b[0mself\u001b[0m\u001b[0;34m.\u001b[0m\u001b[0m_parent_ident\u001b[0m\u001b[0;34m[\u001b[0m\u001b[0;34m\"shell\"\u001b[0m\u001b[0;34m]\u001b[0m\u001b[0;34m,\u001b[0m\u001b[0;34m\u001b[0m\u001b[0;34m\u001b[0m\u001b[0m\n",
            "\u001b[0;32m/usr/local/lib/python3.11/dist-packages/ipykernel/kernelbase.py\u001b[0m in \u001b[0;36m_input_request\u001b[0;34m(self, prompt, ident, parent, password)\u001b[0m\n\u001b[1;32m   1217\u001b[0m             \u001b[0;32mexcept\u001b[0m \u001b[0mKeyboardInterrupt\u001b[0m\u001b[0;34m:\u001b[0m\u001b[0;34m\u001b[0m\u001b[0;34m\u001b[0m\u001b[0m\n\u001b[1;32m   1218\u001b[0m                 \u001b[0;31m# re-raise KeyboardInterrupt, to truncate traceback\u001b[0m\u001b[0;34m\u001b[0m\u001b[0;34m\u001b[0m\u001b[0m\n\u001b[0;32m-> 1219\u001b[0;31m                 \u001b[0;32mraise\u001b[0m \u001b[0mKeyboardInterrupt\u001b[0m\u001b[0;34m(\u001b[0m\u001b[0;34m\"Interrupted by user\"\u001b[0m\u001b[0;34m)\u001b[0m \u001b[0;32mfrom\u001b[0m \u001b[0;32mNone\u001b[0m\u001b[0;34m\u001b[0m\u001b[0;34m\u001b[0m\u001b[0m\n\u001b[0m\u001b[1;32m   1220\u001b[0m             \u001b[0;32mexcept\u001b[0m \u001b[0mException\u001b[0m\u001b[0;34m:\u001b[0m\u001b[0;34m\u001b[0m\u001b[0;34m\u001b[0m\u001b[0m\n\u001b[1;32m   1221\u001b[0m                 \u001b[0mself\u001b[0m\u001b[0;34m.\u001b[0m\u001b[0mlog\u001b[0m\u001b[0;34m.\u001b[0m\u001b[0mwarning\u001b[0m\u001b[0;34m(\u001b[0m\u001b[0;34m\"Invalid Message:\"\u001b[0m\u001b[0;34m,\u001b[0m \u001b[0mexc_info\u001b[0m\u001b[0;34m=\u001b[0m\u001b[0;32mTrue\u001b[0m\u001b[0;34m)\u001b[0m\u001b[0;34m\u001b[0m\u001b[0;34m\u001b[0m\u001b[0m\n",
            "\u001b[0;31mKeyboardInterrupt\u001b[0m: Interrupted by user"
          ]
        }
      ],
      "source": [
        "#Fix the code\n",
        "num1 = input(\"Enter a number: \")\n",
        "num2 = input(\"Enter another number: \")\n",
        "print(num1 + num2)"
      ]
    },
    {
      "cell_type": "markdown",
      "id": "de97de41-bd8a-4ac0-b2d5-e8b9f9a5693f",
      "metadata": {
        "id": "de97de41-bd8a-4ac0-b2d5-e8b9f9a5693f"
      },
      "source": [
        "## 📌 TASK 14: Fun with f-strings\n",
        "### 🔹 Scenario:\n",
        "**Use f-strings to print:**"
      ]
    },
    {
      "cell_type": "code",
      "execution_count": null,
      "id": "69515171-1709-4a47-bfeb-1485d5abaa3d",
      "metadata": {
        "id": "69515171-1709-4a47-bfeb-1485d5abaa3d"
      },
      "outputs": [],
      "source": [
        "Alex is 12 years old and loves Python!"
      ]
    },
    {
      "cell_type": "code",
      "execution_count": 17,
      "id": "2a82a6c0-ea68-457e-bf04-426d6e708dc5",
      "metadata": {
        "id": "2a82a6c0-ea68-457e-bf04-426d6e708dc5",
        "outputId": "b9b5ec38-3a60-44ab-d293-34ef122f66e5",
        "colab": {
          "base_uri": "https://localhost:8080/"
        }
      },
      "outputs": [
        {
          "output_type": "stream",
          "name": "stdout",
          "text": [
            "age=12\n"
          ]
        }
      ],
      "source": [
        "age = 12\n",
        "print(f\"age=12\")"
      ]
    },
    {
      "cell_type": "markdown",
      "id": "ae911e23-a609-4bd8-81ab-489ea217f4fe",
      "metadata": {
        "id": "ae911e23-a609-4bd8-81ab-489ea217f4fe"
      },
      "source": [
        "## 📌 TASK 15: School Motto Formatting\n",
        "### 🔹 Scenario:\n",
        "**Print the school motto using a .format(), f-strings, and concatenation! Print the same motto with all the three methods**\n",
        "\n",
        "**Our motto: Welcome to Greenfield High! Our motto is Learn, Innovate, Succeed.**"
      ]
    },
    {
      "cell_type": "code",
      "execution_count": 16,
      "id": "9bb55244-2081-432a-a362-f12c6a8c5f56",
      "metadata": {
        "id": "9bb55244-2081-432a-a362-f12c6a8c5f56",
        "outputId": "a15051f2-1ab1-4588-98e4-0c954705b675",
        "colab": {
          "base_uri": "https://localhost:8080/"
        }
      },
      "outputs": [
        {
          "output_type": "stream",
          "name": "stdout",
          "text": [
            "our motto:welcome to greenfeild high!our motto is learn,innovate,succeed\n",
            "our motto:welcoe to greenfeild high! our motto is learn,innovate,succeed\n",
            "our motto:welcome to greenfeild high! our motto is learn,innovate,succeed\n"
          ]
        }
      ],
      "source": [
        "#.format()\n",
        "print(\"our motto:welcome to greenfeild high!our motto is learn,innovate,succeed\".format())\n",
        "#f-strings\n",
        "print(f\"our motto:welcoe to greenfeild high! our motto is learn,innovate,succeed\")\n",
        "#concatenation\n",
        "print(\"our motto:welcome to greenfeild high! our motto is learn,innovate,succeed\")\n"
      ]
    },
    {
      "cell_type": "markdown",
      "id": "04af4346-78dd-409c-8667-b4a21ac8730e",
      "metadata": {
        "id": "04af4346-78dd-409c-8667-b4a21ac8730e"
      },
      "source": [
        "# 🎉 MISSION COMPLETE!\n",
        "## Great job, Alex! You have successfully helped Greenfield High using Python! 🚀💡"
      ]
    },
    {
      "cell_type": "markdown",
      "id": "71184d4c-8e81-4737-9114-fdba759221c7",
      "metadata": {
        "id": "71184d4c-8e81-4737-9114-fdba759221c7"
      },
      "source": [
        "**(c) Rahul Tiwari**"
      ]
    }
  ],
  "metadata": {
    "kernelspec": {
      "display_name": "Python 3 (ipykernel)",
      "language": "python",
      "name": "python3"
    },
    "language_info": {
      "codemirror_mode": {
        "name": "ipython",
        "version": 3
      },
      "file_extension": ".py",
      "mimetype": "text/x-python",
      "name": "python",
      "nbconvert_exporter": "python",
      "pygments_lexer": "ipython3",
      "version": "3.12.4"
    },
    "colab": {
      "provenance": []
    }
  },
  "nbformat": 4,
  "nbformat_minor": 5
}